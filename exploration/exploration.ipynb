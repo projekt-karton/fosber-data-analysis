{
 "cells": [
  {
   "cell_type": "code",
   "execution_count": null,
   "id": "05e5e884",
   "metadata": {},
   "outputs": [],
   "source": [
    "import numpy as np\n",
    "import pandas as pd\n",
    "from pathlib import Path"
   ]
  },
  {
   "cell_type": "markdown",
   "id": "7bd802c5",
   "metadata": {},
   "source": [
    "## Fosber\n",
    "\n",
    "Nazewnictwo plików z danymi to najprawdopodobniej "
   ]
  },
  {
   "cell_type": "code",
   "execution_count": null,
   "id": "f63c9920",
   "metadata": {},
   "outputs": [],
   "source": [
    "cols_desc_path = Path(\"../csv-data/fosber/Opis kolumn Fosber V2.xlsx\")\n",
    "\n",
    "# pd.set_option('display.max_rows', None)\n",
    "cols_desc_df = pd.read_excel(cols_desc_path).dropna(subset=[\"Nazwa\"])\n",
    "\n",
    "cols_desc_df"
   ]
  },
  {
   "cell_type": "code",
   "execution_count": null,
   "id": "ba618ba5",
   "metadata": {},
   "outputs": [],
   "source": [
    "fosber_data_file_path = Path(\"../csv-data/fosber/Dane/CloseLoopUsage_2024_4_10_6_39_7.csv\")\n",
    "\n",
    "pd.read_csv(fosber_data_file_path, delimiter=\";\")"
   ]
  },
  {
   "cell_type": "code",
   "execution_count": null,
   "id": "f410e0c1",
   "metadata": {},
   "outputs": [],
   "source": [
    "def delete_zone_identifier_files(directory_path):\n",
    "    \"\"\"\n",
    "    Recursively deletes files with \"Zone.Identifier\" in their name within a directory.\n",
    "\n",
    "    Args:\n",
    "        directory_path: A Path object representing the directory to process.\n",
    "    \"\"\"\n",
    "    print(f\"Processing directory: {directory_path}\")\n",
    "    for file in directory_path.iterdir():\n",
    "            if file.is_dir():\n",
    "                # If it's a directory, recurse into it\n",
    "                delete_zone_identifier_files(file)\n",
    "            elif file.is_file():\n",
    "                # If it's a file, check for \"Zone.Identifier\"\n",
    "                if \"Zone.Identifier\" in file.name:\n",
    "                    try:\n",
    "                        file.unlink()\n",
    "                    except OSError as e:\n",
    "                        print(f\"Error deleting file {file.name}: {e}\")\n",
    "\n",
    "# --- Main part of the script ---\n",
    "fosber_data_directory = Path(\"../csv-data/\")\n",
    "\n",
    "delete_zone_identifier_files(fosber_data_directory)"
   ]
  },
  {
   "cell_type": "code",
   "execution_count": null,
   "id": "80fefa65",
   "metadata": {},
   "outputs": [],
   "source": []
  }
 ],
 "metadata": {
  "kernelspec": {
   "display_name": ".venv",
   "language": "python",
   "name": "python3"
  },
  "language_info": {
   "codemirror_mode": {
    "name": "ipython",
    "version": 3
   },
   "file_extension": ".py",
   "mimetype": "text/x-python",
   "name": "python",
   "nbconvert_exporter": "python",
   "pygments_lexer": "ipython3",
   "version": "3.13.3"
  }
 },
 "nbformat": 4,
 "nbformat_minor": 5
}
